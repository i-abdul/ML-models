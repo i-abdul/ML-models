{
  "nbformat": 4,
  "nbformat_minor": 0,
  "metadata": {
    "colab": {
      "name": "Data_clean.ipynb",
      "provenance": [],
      "collapsed_sections": []
    },
    "kernelspec": {
      "name": "python3",
      "display_name": "Python 3"
    }
  },
  "cells": [
    {
      "cell_type": "code",
      "metadata": {
        "id": "dVdzSNqPk6S3",
        "colab_type": "code",
        "colab": {}
      },
      "source": [
        "import pandas as pd\n",
        "import numpy as np\n",
        "import  re\n",
        "df= pd.read_excel('Los_angeles.xlsx',sheet_name='Sheet1',usecols=['Yr','Trans','Odom','Price','Engine'])"
      ],
      "execution_count": 0,
      "outputs": []
    },
    {
      "cell_type": "code",
      "metadata": {
        "id": "NTtu_Dk0XSFm",
        "colab_type": "code",
        "colab": {}
      },
      "source": [
        "for i in range(2,433):\n",
        "  df=df.append(pd.read_excel('Los_angeles.xlsx',sheet_name='Sheet'+str(i),usecols=['Yr','Trans','Odom','Price','Engine']))"
      ],
      "execution_count": 0,
      "outputs": []
    },
    {
      "cell_type": "code",
      "metadata": {
        "id": "UfUESXC9qK1Z",
        "colab_type": "code",
        "colab": {}
      },
      "source": [
        "df=df.replace('na',np.nan)\n",
        "df=df.dropna()\n",
        "df"
      ],
      "execution_count": 0,
      "outputs": []
    },
    {
      "cell_type": "code",
      "metadata": {
        "id": "cgMQHWQF4A9E",
        "colab_type": "code",
        "colab": {}
      },
      "source": [
        "df['Engine']=df['Engine'].str.extract(r\"(\\d\\.?\\d+)\")"
      ],
      "execution_count": 0,
      "outputs": []
    },
    {
      "cell_type": "code",
      "metadata": {
        "id": "vwUWW8G57FlX",
        "colab_type": "code",
        "colab": {}
      },
      "source": [
        "df.reset_index(drop=True,inplace=True)"
      ],
      "execution_count": 0,
      "outputs": []
    },
    {
      "cell_type": "code",
      "metadata": {
        "id": "DsUpCcE36bpy",
        "colab_type": "code",
        "colab": {}
      },
      "source": [
        "df=df.dropna()"
      ],
      "execution_count": 0,
      "outputs": []
    },
    {
      "cell_type": "code",
      "metadata": {
        "id": "NKEvzz9TylOi",
        "colab_type": "code",
        "colab": {}
      },
      "source": [
        "df =df.rename(columns={'Yr':'Year','Trans':'Transmission'})"
      ],
      "execution_count": 0,
      "outputs": []
    },
    {
      "cell_type": "code",
      "metadata": {
        "id": "6dhkVpuhyrtu",
        "colab_type": "code",
        "colab": {}
      },
      "source": [
        "df['Price']=df['Price'].map(lambda x: x.lstrip('$'))"
      ],
      "execution_count": 0,
      "outputs": []
    },
    {
      "cell_type": "code",
      "metadata": {
        "id": "GRkxwGRaywwr",
        "colab_type": "code",
        "colab": {}
      },
      "source": [
        "df['Price']=pd.to_numeric(df['Price'].map(lambda x:x.replace(',','')))"
      ],
      "execution_count": 0,
      "outputs": []
    },
    {
      "cell_type": "code",
      "metadata": {
        "id": "yUO6S0Dwy08p",
        "colab_type": "code",
        "colab": {}
      },
      "source": [
        "df['Odom']=pd.to_numeric(df['Odom'].map( lambda x: x if type(x) == int else x.replace(',','')))"
      ],
      "execution_count": 0,
      "outputs": []
    },
    {
      "cell_type": "code",
      "metadata": {
        "id": "3WH4p0VfxX0X",
        "colab_type": "code",
        "colab": {}
      },
      "source": [
        "df1=df"
      ],
      "execution_count": 0,
      "outputs": []
    },
    {
      "cell_type": "code",
      "metadata": {
        "id": "3OlEs6LhA-r2",
        "colab_type": "code",
        "colab": {}
      },
      "source": [
        "df"
      ],
      "execution_count": 0,
      "outputs": []
    },
    {
      "cell_type": "code",
      "metadata": {
        "id": "NAZLX9TFzW2e",
        "colab_type": "code",
        "colab": {}
      },
      "source": [
        "df1['Transmission']=df1['Transmission'].map(lambda x : x if x=='Automatic' else x.replace(x,'Manual'))"
      ],
      "execution_count": 0,
      "outputs": []
    },
    {
      "cell_type": "code",
      "metadata": {
        "id": "rQcDIh6pB7yw",
        "colab_type": "code",
        "colab": {}
      },
      "source": [
        "df1['Engine']=df1['Engine'].map(lambda x :float(x))"
      ],
      "execution_count": 0,
      "outputs": []
    },
    {
      "cell_type": "code",
      "metadata": {
        "id": "QdBeHEZmEiCj",
        "colab_type": "code",
        "colab": {}
      },
      "source": [
        "df1"
      ],
      "execution_count": 0,
      "outputs": []
    },
    {
      "cell_type": "code",
      "metadata": {
        "id": "XXfjp8MI_5lw",
        "colab_type": "code",
        "colab": {}
      },
      "source": [
        "writer = pd.ExcelWriter('/content/Los_angeles_best.xlsx')\n",
        "df1.to_excel(writer,sheet_name='Sheet1',index=False)\n",
        "writer.save()"
      ],
      "execution_count": 0,
      "outputs": []
    }
  ]
}